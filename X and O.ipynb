{
 "cells": [
  {
   "cell_type": "markdown",
   "id": "277995a9",
   "metadata": {},
   "source": [
    "# Hello and Welcome!\n",
    "#### Below you will find my X and O game\n",
    "Enjoy - AB"
   ]
  },
  {
   "cell_type": "code",
   "execution_count": 1,
   "id": "62dcb6ba",
   "metadata": {},
   "outputs": [],
   "source": [
    "def user_choice():\n",
    "    # This function is used to determain if player 1 would like to be X or O\n",
    "    marker = ''\n",
    "    \n",
    "    while not (marker == 'X' or marker == 'O'):\n",
    "        marker = input('Player 1 please select X or O: ').upper()\n",
    "        if not (marker == 'X' or marker == 'O'):\n",
    "            clear_output()\n",
    "            print('ERROR: Please select X or O ')\n",
    "\n",
    "    if marker == 'X':\n",
    "        return ('X', 'O')\n",
    "    else:\n",
    "        return ('O', 'X')"
   ]
  },
  {
   "cell_type": "code",
   "execution_count": 2,
   "id": "a5fc4bb8",
   "metadata": {},
   "outputs": [],
   "source": [
    "def show_board(board):\n",
    "    #This function will display a game board\n",
    "    clear_output()\n",
    "    \n",
    "    print(\" \".join(['   '+board[7]+ '| '+board[8]+ ' |'+board[9]+'']))\n",
    "    print(\" \".join(['_','_','|','_','|','_','_']))\n",
    "    print(\" \".join(['   '+board[4]+ '| '+board[5]+ ' |'+board[6]+'']))\n",
    "    print(\" \".join(['_','_','|','_','|','_','_']))\n",
    "    print(\" \".join(['   '+board[1]+ '| '+board[2]+ ' |'+board[3]+'']))\n",
    "    print(\" \".join([' ',' ','|',' ','|',' ',' ']))\n",
    "    \n",
    "    pass"
   ]
  },
  {
   "cell_type": "code",
   "execution_count": 3,
   "id": "7733e828",
   "metadata": {},
   "outputs": [],
   "source": [
    "def place_marker(board, marker, position):\n",
    "    #This is used to place a marker position\n",
    "    board[position] = marker"
   ]
  },
  {
   "cell_type": "code",
   "execution_count": 4,
   "id": "2765a2b5",
   "metadata": {},
   "outputs": [],
   "source": [
    "def win_check(board, marker):\n",
    "    #This checks for a win condition\n",
    "    return ((board[7] == marker and board[8] == marker and board[9] == marker) or\\\n",
    "    (board[4] == marker and board[5] == marker and board[6] == marker) or\\\n",
    "    (board[1] == marker and board[2] == marker and board[3] == marker) or\\\n",
    "    (board[7] == marker and board[4] == marker and board[1] == marker) or\\\n",
    "    (board[8] == marker and board[5] == marker and board[2] == marker) or\\\n",
    "    (board[9] == marker and board[6] == marker and board[3] == marker) or\\\n",
    "    (board[7] == marker and board[5] == marker and board[3] == marker) or\\\n",
    "    (board[9] == marker and board[5] == marker and board[1] == marker))"
   ]
  },
  {
   "cell_type": "code",
   "execution_count": 5,
   "id": "fec48c0a",
   "metadata": {},
   "outputs": [],
   "source": [
    "def go_first():\n",
    "    #This will choose (by random) who will go first\n",
    "    result = random.randint(0,1)\n",
    "    if result == 0:\n",
    "        return \"PLayer 2\"\n",
    "    else:\n",
    "        return \"Player 1\""
   ]
  },
  {
   "cell_type": "code",
   "execution_count": 6,
   "id": "84dbbada",
   "metadata": {},
   "outputs": [],
   "source": [
    "def space_check(board, position):\n",
    "    #This function will check if the users position choice is empty or not\n",
    "    return board[position] == ' '"
   ]
  },
  {
   "cell_type": "code",
   "execution_count": 15,
   "id": "d1511591",
   "metadata": {},
   "outputs": [],
   "source": [
    "def full_board_check(board):\n",
    "    #This will check if the board is full\n",
    "    for i in range(1,10):\n",
    "        if space_check(board,i):\n",
    "            return False\n",
    "    return True"
   ]
  },
  {
   "cell_type": "code",
   "execution_count": 16,
   "id": "3630f3fb",
   "metadata": {},
   "outputs": [],
   "source": [
    "def player_choice(board):\n",
    "    \n",
    "    #This function asks the player their next move and checks if it is an emptyspace\n",
    "    \n",
    "    position = 0\n",
    "    \n",
    "    while position not in [1,2,3,4,5,6,7,8,9] or not space_check(board,position):\n",
    "        position = int(input(\"Where would you like to go next? 1-9: \"))\n",
    "        \n",
    "    return position      \n",
    "        "
   ]
  },
  {
   "cell_type": "code",
   "execution_count": 17,
   "id": "5c935a38",
   "metadata": {},
   "outputs": [],
   "source": [
    "def replay():\n",
    "    \n",
    "    choice_replay = ''\n",
    "    \n",
    "    while not (choice_replay == 'Y' or choice_replay == 'N'):\n",
    "        choice_replay = input(\"Would you like to play again? (Y or N): \").upper()\n",
    "        if choice_replay == \"Y\":\n",
    "            return True\n",
    "        elif choice_replay == \"N\":\n",
    "            pass\n",
    "        else:\n",
    "            clear_output()\n",
    "            print(\"ERROR: Please input Y or N\")"
   ]
  },
  {
   "cell_type": "code",
   "execution_count": 18,
   "id": "f83d1793",
   "metadata": {
    "scrolled": true
   },
   "outputs": [
    {
     "name": "stdout",
     "output_type": "stream",
     "text": [
      "   O| X |O\n",
      "_ _ | _ | _ _\n",
      "   X| O |O\n",
      "_ _ | _ | _ _\n",
      "   X| O |X\n",
      "    |   |    \n",
      "No winners this time!\n",
      "Would you like to play again? (Y or N): n\n"
     ]
    }
   ],
   "source": [
    "import random\n",
    "from IPython.display import clear_output\n",
    "\n",
    "while True:\n",
    "    show_board(ttt_example)\n",
    "    print('Welcome to Tic Tac Toe!')\n",
    "    ttt = ['#',' ',' ',' ',' ',' ',' ',' ',' ',' ']\n",
    "    ttt_example = ['#','1','2','3','4','5','6','7','8','9']\n",
    "    player1_mark,player2_mark = user_choice()\n",
    "    first = go_first()\n",
    "    print(first + \" will be going first\")\n",
    "    \n",
    "    play_game = input(\"Would you like to continue? (Y or N): \").upper()\n",
    "    if play_game == \"Y\":\n",
    "        game_on = True\n",
    "    else:\n",
    "        game_on = False\n",
    "            \n",
    "    while game_on:\n",
    "    \n",
    "        if first == \"Player 1\":\n",
    "            show_board(ttt)\n",
    "            position = player_choice(ttt)\n",
    "            place_marker(ttt,player1_mark,position)\n",
    "        \n",
    "            if win_check(ttt,player1_mark):\n",
    "                show_board(ttt)\n",
    "                print(f\"CONGRATULATIONS {player1_mark} YOU WIN!!\")\n",
    "                game_on = False\n",
    "            else:\n",
    "                if full_board_check(ttt):\n",
    "                    show_board(ttt)\n",
    "                    print(\"No winners this time!\")\n",
    "                    break\n",
    "                else:\n",
    "                    first = \"Player 2\"\n",
    "                    \n",
    "        else:\n",
    "            show_board(ttt)\n",
    "            position = player_choice(ttt)\n",
    "            place_marker(ttt,player2_mark,position)\n",
    "        \n",
    "            if win_check(ttt,player2_mark):\n",
    "                show_board(ttt)\n",
    "                print(f\"CONGRATULATIONS {player2_mark} YOU WIN!!\")\n",
    "                game_on = False\n",
    "            else:\n",
    "                if full_board_check(ttt):\n",
    "                    show_board(ttt)\n",
    "                    print(\"No winners this time!\")\n",
    "                    break\n",
    "                else:\n",
    "                    first = \"Player 1\"\n",
    "\n",
    "        \n",
    "    if not replay():\n",
    "        break"
   ]
  },
  {
   "cell_type": "code",
   "execution_count": null,
   "id": "d3c2ce17",
   "metadata": {},
   "outputs": [],
   "source": []
  }
 ],
 "metadata": {
  "kernelspec": {
   "display_name": "Python 3 (ipykernel)",
   "language": "python",
   "name": "python3"
  },
  "language_info": {
   "codemirror_mode": {
    "name": "ipython",
    "version": 3
   },
   "file_extension": ".py",
   "mimetype": "text/x-python",
   "name": "python",
   "nbconvert_exporter": "python",
   "pygments_lexer": "ipython3",
   "version": "3.9.12"
  }
 },
 "nbformat": 4,
 "nbformat_minor": 5
}
